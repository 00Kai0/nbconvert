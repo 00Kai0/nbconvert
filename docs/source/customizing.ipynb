{
 "cells": [
  {
   "cell_type": "markdown",
   "metadata": {},
   "source": [
    "# Customizing nbconvert"
   ]
  },
  {
   "cell_type": "markdown",
   "metadata": {},
   "source": [
    "Under the hood, nbconvert uses [Jinja templates](http://jinja2.readthedocs.org/en/latest/intro.html) to specify how the notebooks should be formatted. These templates can be fully customized, allowing you to use nbconvert to create notebooks in different formats with different styles as well.\n",
    "\n",
    "Out of the box, nbconvert can be used to convert notebooks to plain Python files. For example, the following command converts the `example.ipynb` notebook to Python and prints out the result:"
   ]
  },
  {
   "cell_type": "code",
   "execution_count": null,
   "metadata": {
    "collapsed": false
   },
   "outputs": [],
   "source": [
    "%%bash\n",
    "\n",
    "jupyter nbconvert --to python 'example.ipynb' --stdout"
   ]
  },
  {
   "cell_type": "markdown",
   "metadata": {},
   "source": [
    "From the code, you can see that non-code cells are also exported.  As mentioned above, if you want to change this behavior, you can use a custom template.  The custom template inherits from the Python template and overwrites the markdown blocks so that they are empty. \n",
    "\n",
    "Below is an example of a custom template, which we write to a file called `simplepython.tpl`. This template removes markdown cells from the output, and also changes how the execution count numbers are formatted:"
   ]
  },
  {
   "cell_type": "code",
   "execution_count": null,
   "metadata": {
    "collapsed": false
   },
   "outputs": [],
   "source": [
    "%%writefile simplepython.tpl\n",
    "\n",
    "{% extends 'python.tpl'%}\n",
    "\n",
    "## remove markdown cells\n",
    "{% block markdowncell -%}\n",
    "{% endblock markdowncell %}\n",
    "\n",
    "## change the appearance of execution count\n",
    "{% block in_prompt %}\n",
    "# This was input cell with execution count: {{ cell.execution_count if cell.execution_count else ' ' }}\n",
    "{%- endblock in_prompt %}"
   ]
  },
  {
   "cell_type": "markdown",
   "metadata": {},
   "source": [
    "Using this template, we see that the resulting Python code does not contain anything that was previously in a markdown cell, and has special comments regarding the execution counts:"
   ]
  },
  {
   "cell_type": "code",
   "execution_count": null,
   "metadata": {
    "collapsed": false
   },
   "outputs": [],
   "source": [
    "%%bash\n",
    "\n",
    "jupyter nbconvert --to python 'example.ipynb' --stdout --template=simplepython.tpl"
   ]
  },
  {
   "cell_type": "markdown",
   "metadata": {},
   "source": [
    "## Template structure\n",
    "\n",
    "Nbconvert templates consist of a set of nested blocks. When defining a new\n",
    "template, you extend an existing template by overriding some of the blocks.\n",
    "\n",
    "All the templates shipped in nbconvert have the basic structure described here,\n",
    "though some may define additional blocks."
   ]
  },
  {
   "cell_type": "code",
   "execution_count": null,
   "metadata": {
    "collapsed": false
   },
   "outputs": [],
   "source": [
    "from IPython.display import HTML, display\n",
    "with open('template_structure.html') as f:\n",
    "    display(HTML(f.read()))"
   ]
  },
  {
   "cell_type": "markdown",
   "metadata": {},
   "source": [
    "### A few gotchas\n",
    "\n",
    "Jinja blocks use `{% %}` by default which does not play nicely with LaTeX, so those are replaced by `((* *))` in LaTeX templates."
   ]
  },
  {
   "cell_type": "markdown",
   "metadata": {},
   "source": [
    "## Templates that use cell metadata\n",
    "\n",
    "The notebook file format supports attaching arbitrary JSON metadata to each cell. \n",
    "Here, as an exercise, you will use the metadata to tag cells.\n",
    "\n",
    "First you need to choose another notebook you want to convert to html, and tag some of the cells with metadata. \n",
    "You can refer to the file `soln/celldiff.js` as an example or follow the Javascript tutorial to figure out how\n",
    "do change cell metadata.  Assuming you have a notebook with some of the cells tagged as `'Easy'`, `'Medium'`,\n",
    "`'Hard'`, or `<None>`, the notebook can be converted specially using a custom template.\n",
    "Design your template in the cells provided below.\n",
    "\n",
    "Hint: if your tags are located at `cell.metadata.example.difficulty`, the following Python code would get\n",
    "the value of the tag: \n",
    "\n",
    "```python\n",
    "cell['metadata'].get('example', {}).get('difficulty', '')\n",
    "```\n",
    "\n",
    "The following lines of code may be a helpful starting point:"
   ]
  },
  {
   "cell_type": "code",
   "execution_count": null,
   "metadata": {
    "collapsed": false
   },
   "outputs": [],
   "source": [
    "%%writefile mytemplate.tpl\n",
    "\n",
    "{% extends 'full.tpl'%}\n",
    "{% block any_cell %}\n",
    "    <div style=\"border:thin solid red\">\n",
    "        {{ super() }}\n",
    "    </div>\n",
    "{% endblock any_cell %}"
   ]
  },
  {
   "cell_type": "markdown",
   "metadata": {},
   "source": [
    "Once you have tagged the cells appropriately and written your template using the cell above, try converting your notebook using the following command:"
   ]
  },
  {
   "cell_type": "code",
   "execution_count": null,
   "metadata": {
    "collapsed": false
   },
   "outputs": [],
   "source": [
    "%%bash\n",
    "\n",
    "jupyter nbconvert --to html <your chosen notebook.ipynb> --template=mytemplate.tpl"
   ]
  }
 ],
 "metadata": {
  "kernelspec": {
   "display_name": "Python 3",
   "language": "python",
   "name": "python3"
  },
  "language_info": {
   "codemirror_mode": {
    "name": "ipython",
    "version": 3
   },
   "file_extension": ".py",
   "mimetype": "text/x-python",
   "name": "python",
   "nbconvert_exporter": "python",
   "pygments_lexer": "ipython3",
   "version": "3.4.3"
  }
 },
 "nbformat": 4,
 "nbformat_minor": 0
}
